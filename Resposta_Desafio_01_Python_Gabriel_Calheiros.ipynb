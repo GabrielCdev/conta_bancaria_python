{
  "nbformat": 4,
  "nbformat_minor": 0,
  "metadata": {
    "colab": {
      "name": "Resposta Desafio 01 Python - Gabriel Calheiros.ipynb",
      "provenance": [],
      "collapsed_sections": [],
      "mount_file_id": "1h1gSlX-INDDPQktMBfCa7Vhrw6fKSDNO",
      "authorship_tag": "ABX9TyNjBxU2hNzzyV2/Z8obTOzr",
      "include_colab_link": true
    },
    "kernelspec": {
      "name": "python3",
      "display_name": "Python 3"
    },
    "language_info": {
      "name": "python"
    }
  },
  "cells": [
    {
      "cell_type": "markdown",
      "metadata": {
        "id": "view-in-github",
        "colab_type": "text"
      },
      "source": [
        "<a href=\"https://colab.research.google.com/github/GabrielCdev/conta_bancaria_python/blob/main/Resposta_Desafio_01_Python_Gabriel_Calheiros.ipynb\" target=\"_parent\"><img src=\"https://colab.research.google.com/assets/colab-badge.svg\" alt=\"Open In Colab\"/></a>"
      ]
    },
    {
      "cell_type": "markdown",
      "source": [
        "Construa um módulo conta_bancaria que possui uma classe Cliente e outra classe Extrato.\n",
        "\n",
        "A classe Extrato guarda a data de criação da conta e uma lista de mensagens informando as transações já realizadas.\n",
        "Funções: adicionar_transacao e gerar_extrato\n",
        "\n",
        "A classe Cliente possui os atributos nome, agencia, conta, saldo e extrato (do tipo Extrato)\n",
        "Os atributos são inicializados na criação do objeto;\n",
        "Funções: sacar, depositar, exibir_saldo, transferir e exibir_extrato.\n",
        "\n",
        "Lembre-se que o usuário não pode gastar mais do que tem."
      ],
      "metadata": {
        "id": "U7jl4VER2UR-"
      }
    },
    {
      "cell_type": "code",
      "source": [
        "import datetime as dt"
      ],
      "metadata": {
        "id": "9oY4ePR76b-P"
      },
      "execution_count": null,
      "outputs": []
    },
    {
      "cell_type": "code",
      "execution_count": null,
      "metadata": {
        "id": "BMYSuRXH2P2m"
      },
      "outputs": [],
      "source": [
        "class Extrato:\n",
        "\n",
        "  def __init__(self, data_criacao_conta, lista_mensagens):\n",
        "    self.__data_criacao_conta = data_criacao_conta\n",
        "    self.__mensagens = []\n",
        "\n",
        "  def adicionar_transacao(self, msg1):\n",
        "    self.__mensagens.append(msg1)\n",
        "\n",
        "  def gerar_extrato(self):\n",
        "    return self.__mensagens"
      ]
    },
    {
      "cell_type": "code",
      "source": [
        "class Cliente:\n",
        "\n",
        "  def __init__(self, nome, agencia, conta, saldo):\n",
        "    self.__nome = nome\n",
        "    self.__agencia = agencia\n",
        "    self.__conta = conta\n",
        "    self.__saldo = float(saldo)\n",
        "    self.__extrato = Extrato(dt.date.today(), [])\n",
        "    \n",
        "  def sacar(self, valor):\n",
        "    if (valor <= self.__saldo):\n",
        "      self.__saldo -= valor\n",
        "      self.__extrato.adicionar_transacao('Saque de R${:.2f}'.format(valor))\n",
        "      print(\"\\nSaldo atual: R${:.2f}\".format(self.__saldo))\n",
        "    else:\n",
        "      print(\"\\nSaldo insuficiente!\")\n",
        "      self.exibir_saldo()\n",
        "\n",
        "  def depositar(self, valor):\n",
        "    if valor > 0:\n",
        "      self.__saldo += valor\n",
        "      self.__extrato.adicionar_transacao('Deposito de R${:.2f}'.format(valor))\n",
        "      print(\"\\nSaldo atual: R${:.2f}\".format(self.__saldo))\n",
        "\n",
        "  def exibir_saldo(self):\n",
        "    print(\"\\nSaldo atual: R${:.2f}\".format(self.__saldo))\n",
        "\n",
        "  def transferir(self, valor, destinatario):\n",
        "    if (valor <= self.__saldo):\n",
        "      self.__saldo -= valor\n",
        "      self.__extrato.adicionar_transacao('Transferencia de R${:.2f}'.format(valor))\n",
        "      destinatario.depositar(valor)\n",
        "      print(\"\\nSaldo atual: R${:.2f}\".format(self.__saldo))\n",
        "    else:\n",
        "      print(\"\\nSaldo insuficiente!\")\n",
        "      self.exibir_saldo()\n",
        "\n",
        "  def exibir_extrato(self):\n",
        "    print(\"\\nExtrato de {}: {}\".format(self.__nome, self.__extrato.gerar_extrato()))"
      ],
      "metadata": {
        "id": "oTCoyv9IAShe"
      },
      "execution_count": null,
      "outputs": []
    },
    {
      "cell_type": "code",
      "source": [
        "conta_Gabriel = Cliente('Gabriel', '1234-5', '765432-1', 1500)\n",
        "conta_Maria = Cliente('Maria', '5432-1', '123456-7', 0)\n",
        "\n",
        "conta_Gabriel.exibir_saldo()\n",
        "conta_Maria.exibir_saldo()\n",
        "\n",
        "conta_Gabriel.sacar(1499.99)\n",
        "conta_Gabriel.depositar(10000)\n",
        "conta_Gabriel.transferir(8500.01, conta_Maria)\n",
        "\n",
        "conta_Gabriel.exibir_extrato()"
      ],
      "metadata": {
        "id": "XCLKO5S23n-l",
        "colab": {
          "base_uri": "https://localhost:8080/"
        },
        "outputId": "eb625dd2-e654-44fa-8686-d9e13ddfbb49"
      },
      "execution_count": null,
      "outputs": [
        {
          "output_type": "stream",
          "name": "stdout",
          "text": [
            "\n",
            "Saldo atual: R$1500.00\n",
            "\n",
            "Saldo atual: R$0.00\n",
            "\n",
            "Saldo atual: R$0.01\n",
            "\n",
            "Saldo atual: R$10000.01\n",
            "\n",
            "Saldo atual: R$8500.01\n",
            "\n",
            "Saldo atual:  R$1500.00\n",
            "\n",
            "Extrato de Gabriel: ['Saque de R$1499.99', 'Deposito de R$10000.00', 'Transferencia de R$8500.01']\n"
          ]
        }
      ]
    },
    {
      "cell_type": "code",
      "source": [
        "conta_Maria.exibir_saldo()\n",
        "conta_Maria.exibir_extrato()"
      ],
      "metadata": {
        "colab": {
          "base_uri": "https://localhost:8080/"
        },
        "id": "x_aeiYYl9U08",
        "outputId": "e7db480f-40c5-471b-c057-e5ce997a906d"
      },
      "execution_count": null,
      "outputs": [
        {
          "output_type": "stream",
          "name": "stdout",
          "text": [
            "\n",
            "Saldo atual: R$8500.01\n",
            "\n",
            "Extrato de Maria: ['Deposito de R$8500.01']\n"
          ]
        }
      ]
    }
  ]
}