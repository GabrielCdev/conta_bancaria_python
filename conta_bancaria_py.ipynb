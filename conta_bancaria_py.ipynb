{
  "nbformat": 4,
  "nbformat_minor": 0,
  "metadata": {
    "colab": {
      "name": "conta_bancaria.py",
      "provenance": [],
      "collapsed_sections": [],
      "authorship_tag": "ABX9TyP/E4yWM2d6F/pABOCv/l3G",
      "include_colab_link": true
    },
    "kernelspec": {
      "name": "python3",
      "display_name": "Python 3"
    },
    "language_info": {
      "name": "python"
    }
  },
  "cells": [
    {
      "cell_type": "markdown",
      "metadata": {
        "id": "view-in-github",
        "colab_type": "text"
      },
      "source": [
        "<a href=\"https://colab.research.google.com/github/GabrielCdev/conta_bancaria_python/blob/main/conta_bancaria_py.ipynb\" target=\"_parent\"><img src=\"https://colab.research.google.com/assets/colab-badge.svg\" alt=\"Open In Colab\"/></a>"
      ]
    },
    {
      "cell_type": "markdown",
      "source": [
        "Construa um módulo conta_bancaria que possui uma classe Cliente e outra classe Extrato.\n",
        "\n",
        "A classe Extrato guarda a data de criação da conta e uma lista de mensagens informando as transações já realizadas.\n",
        "Funções: adicionar_transacao e gerar_extrato\n",
        "\n",
        "A classe Cliente possui os atributos nome, agencia, conta, saldo e extrato (do tipo Extrato)\n",
        "Os atributos são inicializados na criação do objeto;\n",
        "Funções: sacar, depositar, exibir_saldo, transferir e exibir_extrato.\n",
        "\n",
        "Lembre-se que o usuário não pode gastar mais do que tem."
      ],
      "metadata": {
        "id": "z7eKDo6SAG8C"
      }
    },
    {
      "cell_type": "code",
      "execution_count": null,
      "metadata": {
        "id": "aTR3Pd8aADfn"
      },
      "outputs": [],
      "source": [
        "import datetime as dt"
      ]
    },
    {
      "cell_type": "code",
      "source": [
        "class Extrato:\n",
        "\n",
        "  def __init__(self, data_criacao_conta, lista_mensagens):\n",
        "    self.__data_criacao_conta = data_criacao_conta\n",
        "    self.__mensagens = []\n",
        "\n",
        "  def adicionar_transacao(self, msg1):\n",
        "    self.__mensagens.append(msg1)\n",
        "\n",
        "  def gerar_extrato(self):\n",
        "    return self.__mensagens"
      ],
      "metadata": {
        "id": "poGl3voHAKwH"
      },
      "execution_count": null,
      "outputs": []
    },
    {
      "cell_type": "code",
      "source": [
        "class Cliente:\n",
        "\n",
        "  def __init__(self, nome, agencia, conta, saldo):\n",
        "    self.__nome = nome\n",
        "    self.__agencia = agencia\n",
        "    self.__conta = conta\n",
        "    self.__saldo = float(saldo)\n",
        "    self.__extrato = Extrato(dt.date.today(), [])\n",
        "    \n",
        "  def sacar(self, valor):\n",
        "    if (valor <= self.__saldo):\n",
        "      self.__saldo -= valor\n",
        "      self.__extrato.adicionar_transacao('Saque de R${:.2f}'.format(valor))\n",
        "      print(\"\\nSaldo atual: R${:.2f}\".format(self.__saldo))\n",
        "    else:\n",
        "      print(\"\\nSaldo insuficiente!\")\n",
        "      self.exibir_saldo()\n",
        "\n",
        "  def depositar(self, valor):\n",
        "    if valor > 0:\n",
        "      self.__saldo += valor\n",
        "      self.__extrato.adicionar_transacao('Deposito de R${:.2f}'.format(valor))\n",
        "      print(\"\\nSaldo atual: R${:.2f}\".format(self.__saldo))\n",
        "\n",
        "  def exibir_saldo(self):\n",
        "    print(\"\\nSaldo atual: R${:.2f}\".format(self.__saldo))\n",
        "\n",
        "  def transferir(self, valor, destinatario):\n",
        "    if (valor <= self.__saldo):\n",
        "      self.__saldo -= valor\n",
        "      self.__extrato.adicionar_transacao('Transferencia de R${:.2f}'.format(valor))\n",
        "      destinatario.depositar(valor)\n",
        "      print(\"\\nSaldo atual:  R${:.2f}\".format(self.__saldo))\n",
        "    else:\n",
        "      print(\"\\nSaldo insuficiente!\")\n",
        "      self.exibir_saldo()\n",
        "\n",
        "  def exibir_extrato(self):\n",
        "    print(\"\\nExtrato de {}: {}\".format(self.__nome, self.__extrato.gerar_extrato()))"
      ],
      "metadata": {
        "id": "WAFl4daHANCK"
      },
      "execution_count": null,
      "outputs": []
    }
  ]
}