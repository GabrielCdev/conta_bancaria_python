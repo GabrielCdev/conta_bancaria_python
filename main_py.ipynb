{
  "nbformat": 4,
  "nbformat_minor": 0,
  "metadata": {
    "colab": {
      "name": "main.py",
      "provenance": [],
      "collapsed_sections": [],
      "mount_file_id": "1s8L5lccwu0AxoSlogT8l4l1Q3Q4h9Ec0",
      "authorship_tag": "ABX9TyPiybzr7O/CTJX9vMANDeht",
      "include_colab_link": true
    },
    "kernelspec": {
      "name": "python3",
      "display_name": "Python 3"
    },
    "language_info": {
      "name": "python"
    }
  },
  "cells": [
    {
      "cell_type": "markdown",
      "metadata": {
        "id": "view-in-github",
        "colab_type": "text"
      },
      "source": [
        "<a href=\"https://colab.research.google.com/github/GabrielCdev/conta_bancaria_python/blob/main/main_py.ipynb\" target=\"_parent\"><img src=\"https://colab.research.google.com/assets/colab-badge.svg\" alt=\"Open In Colab\"/></a>"
      ]
    },
    {
      "cell_type": "code",
      "source": [
        "import sys\n",
        "sys.path.append('/content/drive/MyDrive/Colab Notebooks/conta_bancaria.py')"
      ],
      "metadata": {
        "id": "5jaFyZR_Ai6I"
      },
      "execution_count": null,
      "outputs": []
    },
    {
      "cell_type": "code",
      "source": [
        "import conta_bancaria"
      ],
      "metadata": {
        "id": "l22-bMRpBGkr"
      },
      "execution_count": null,
      "outputs": []
    },
    {
      "cell_type": "code",
      "source": [
        "conta_Gabriel = conta_bancaria.Cliente('Gabriel', '1234-5', '765432-1', 1500)\n",
        "conta_Maria = conta_bancaria.Cliente('Maria', '5432-1', '123456-7', 0)\n",
        "\n",
        "conta_bancaria.Cliente.exibir_saldo(conta_Gabriel)\n",
        "conta_bancaria.Cliente.exibir_saldo(conta_Maria)\n",
        "\n",
        "conta_bancaria.Cliente.sacar(conta_Gabriel, 1499.99)\n",
        "conta_bancaria.Cliente.depositar(conta_Gabriel, 10000)\n",
        "conta_bancaria.Cliente.transferir(conta_Gabriel, 8500.01, conta_Maria)\n",
        "\n",
        "conta_bancaria.Cliente.exibir_extrato(conta_Gabriel)"
      ],
      "metadata": {
        "id": "aqylEboKBU2J"
      },
      "execution_count": null,
      "outputs": []
    }
  ]
}